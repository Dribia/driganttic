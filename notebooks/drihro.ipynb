{
 "cells": [
  {
   "cell_type": "markdown",
   "id": "8057bbab",
   "metadata": {},
   "source": [
    "# DriHRO prototype\n",
    "\n",
    "This is a HRO prototype.\n",
    "\n",
    "It should do:\n",
    "    \n",
    "    1. Get Ganttic projects\n",
    "    2. Get CRM projects\n",
    "    3. Reconcile both and launch warnings if anything is amiss.\n",
    "    4. (Optional) Modify and edit stuff automatically\n",
    "    5. (Optional) Get Factorial availability\n",
    "    6. Generate a viz of available resources\n",
    "    7. Generate a forecast of future income\n",
    "    "
   ]
  },
  {
   "cell_type": "code",
   "execution_count": 1,
   "id": "49cccaee",
   "metadata": {},
   "outputs": [],
   "source": [
    "from dotenv import load_dotenv\n",
    "import os\n",
    "import pandas as pd\n",
    "import datetime\n",
    "\n",
    "import driganttic.client as dg_client\n",
    "import driganttic.parse as dg_parse"
   ]
  },
  {
   "cell_type": "code",
   "execution_count": 2,
   "id": "d0bef7be",
   "metadata": {},
   "outputs": [],
   "source": [
    "def to_df(ResourceList):\n",
    "    \"\"\"Parses resourcelist to dataframe\"\"\"\n",
    "    return pd.DataFrame(data=ResourceList.dict()['fetched_items'])\n",
    "def filter_tasks(tasks, field='end', date= datetime.datetime.today()):\n",
    "    m = tasks.end > date\n",
    "    return tasks.loc[m]"
   ]
  },
  {
   "cell_type": "markdown",
   "id": "a2c94821",
   "metadata": {},
   "source": [
    "# Get Ganttic data"
   ]
  },
  {
   "cell_type": "code",
   "execution_count": 3,
   "id": "60598161",
   "metadata": {},
   "outputs": [],
   "source": [
    "# API KEY is stored in the env file\n",
    "load_dotenv()\n",
    "APIKEY = os.getenv(\"APIKEY\")"
   ]
  },
  {
   "cell_type": "code",
   "execution_count": 4,
   "id": "8bce2545",
   "metadata": {},
   "outputs": [
    {
     "name": "stdout",
     "output_type": "stream",
     "text": [
      "None\n",
      "None\n"
     ]
    },
    {
     "ename": "ValidationError",
     "evalue": "2 validation errors for ProjectDetails\nservice\n  field required (type=value_error.missing)\nscenario\n  field required (type=value_error.missing)",
     "output_type": "error",
     "traceback": [
      "\u001b[0;31m---------------------------------------------------------------------------\u001b[0m",
      "\u001b[0;31mValidationError\u001b[0m                           Traceback (most recent call last)",
      "\u001b[0;32m<ipython-input-4-a937075aae62>\u001b[0m in \u001b[0;36m<module>\u001b[0;34m\u001b[0m\n\u001b[1;32m      1\u001b[0m \u001b[0mClient\u001b[0m \u001b[0;34m=\u001b[0m \u001b[0mdg_client\u001b[0m\u001b[0;34m.\u001b[0m\u001b[0mGantticClient\u001b[0m\u001b[0;34m(\u001b[0m\u001b[0mAPIKEY\u001b[0m\u001b[0;34m=\u001b[0m\u001b[0mAPIKEY\u001b[0m\u001b[0;34m)\u001b[0m\u001b[0;34m\u001b[0m\u001b[0;34m\u001b[0m\u001b[0m\n\u001b[1;32m      2\u001b[0m \u001b[0;31m# get all projects, tasks and resources\u001b[0m\u001b[0;34m\u001b[0m\u001b[0;34m\u001b[0m\u001b[0;34m\u001b[0m\u001b[0m\n\u001b[0;32m----> 3\u001b[0;31m \u001b[0mprojects\u001b[0m \u001b[0;34m=\u001b[0m \u001b[0mClient\u001b[0m\u001b[0;34m.\u001b[0m\u001b[0mget_projects\u001b[0m\u001b[0;34m(\u001b[0m\u001b[0;34m)\u001b[0m\u001b[0;34m\u001b[0m\u001b[0;34m\u001b[0m\u001b[0m\n\u001b[0m\u001b[1;32m      4\u001b[0m tasks = Client.get_tasks(timeMin = dg_parse.parse_timestamp('2021-01-01'),\n\u001b[1;32m      5\u001b[0m                          timeMax= dg_parse.parse_timestamp('2022-04-30'))\n",
      "\u001b[0;32m~/Repositoris/dribia/driganttic/driganttic/client.py\u001b[0m in \u001b[0;36mget_projects\u001b[0;34m(self, **kwargs)\u001b[0m\n\u001b[1;32m    178\u001b[0m             \u001b[0mself\u001b[0m\u001b[0;34m.\u001b[0m\u001b[0m_exhaust_pages\u001b[0m\u001b[0;34m(\u001b[0m\u001b[0;34m\"project\"\u001b[0m\u001b[0;34m,\u001b[0m \u001b[0;34m**\u001b[0m\u001b[0mkwargs\u001b[0m\u001b[0;34m)\u001b[0m\u001b[0;34m,\u001b[0m\u001b[0;34m\u001b[0m\u001b[0;34m\u001b[0m\u001b[0m\n\u001b[1;32m    179\u001b[0m             \u001b[0;34m\"project\"\u001b[0m\u001b[0;34m,\u001b[0m\u001b[0;34m\u001b[0m\u001b[0;34m\u001b[0m\u001b[0m\n\u001b[0;32m--> 180\u001b[0;31m             \u001b[0mself\u001b[0m\u001b[0;34m.\u001b[0m\u001b[0mTranslator\u001b[0m\u001b[0;34m.\u001b[0m\u001b[0mget\u001b[0m\u001b[0;34m(\u001b[0m\u001b[0;34m\"project\"\u001b[0m\u001b[0;34m)\u001b[0m\u001b[0;34m,\u001b[0m\u001b[0;34m\u001b[0m\u001b[0;34m\u001b[0m\u001b[0m\n\u001b[0m\u001b[1;32m    181\u001b[0m         )\n\u001b[1;32m    182\u001b[0m \u001b[0;34m\u001b[0m\u001b[0m\n",
      "\u001b[0;32m~/Repositoris/dribia/driganttic/driganttic/parse.py\u001b[0m in \u001b[0;36m_fetcherlist\u001b[0;34m(response, resource_name, Translator)\u001b[0m\n\u001b[1;32m    149\u001b[0m     \u001b[0;34m\"\"\"Parse the fetcher list.\"\"\"\u001b[0m\u001b[0;34m\u001b[0m\u001b[0;34m\u001b[0m\u001b[0m\n\u001b[1;32m    150\u001b[0m     items = [\n\u001b[0;32m--> 151\u001b[0;31m         \u001b[0m_fetcherdetails\u001b[0m\u001b[0;34m(\u001b[0m\u001b[0me\u001b[0m\u001b[0;34m,\u001b[0m \u001b[0mresource_name\u001b[0m\u001b[0;34m,\u001b[0m \u001b[0mTranslator\u001b[0m\u001b[0;34m)\u001b[0m \u001b[0;32mfor\u001b[0m \u001b[0me\u001b[0m \u001b[0;32min\u001b[0m \u001b[0mresponse\u001b[0m\u001b[0;34m.\u001b[0m\u001b[0mget\u001b[0m\u001b[0;34m(\u001b[0m\u001b[0;34m\"items\"\u001b[0m\u001b[0;34m,\u001b[0m \u001b[0;34m[\u001b[0m\u001b[0;34m]\u001b[0m\u001b[0;34m)\u001b[0m\u001b[0;34m\u001b[0m\u001b[0;34m\u001b[0m\u001b[0m\n\u001b[0m\u001b[1;32m    152\u001b[0m     ]\n\u001b[1;32m    153\u001b[0m     \u001b[0mpages\u001b[0m \u001b[0;34m=\u001b[0m \u001b[0mresponse\u001b[0m\u001b[0;34m.\u001b[0m\u001b[0mget\u001b[0m\u001b[0;34m(\u001b[0m\u001b[0;34m\"pageCount\"\u001b[0m\u001b[0;34m)\u001b[0m\u001b[0;34m\u001b[0m\u001b[0;34m\u001b[0m\u001b[0m\n",
      "\u001b[0;32m~/Repositoris/dribia/driganttic/driganttic/parse.py\u001b[0m in \u001b[0;36m<listcomp>\u001b[0;34m(.0)\u001b[0m\n\u001b[1;32m    149\u001b[0m     \u001b[0;34m\"\"\"Parse the fetcher list.\"\"\"\u001b[0m\u001b[0;34m\u001b[0m\u001b[0;34m\u001b[0m\u001b[0m\n\u001b[1;32m    150\u001b[0m     items = [\n\u001b[0;32m--> 151\u001b[0;31m         \u001b[0m_fetcherdetails\u001b[0m\u001b[0;34m(\u001b[0m\u001b[0me\u001b[0m\u001b[0;34m,\u001b[0m \u001b[0mresource_name\u001b[0m\u001b[0;34m,\u001b[0m \u001b[0mTranslator\u001b[0m\u001b[0;34m)\u001b[0m \u001b[0;32mfor\u001b[0m \u001b[0me\u001b[0m \u001b[0;32min\u001b[0m \u001b[0mresponse\u001b[0m\u001b[0;34m.\u001b[0m\u001b[0mget\u001b[0m\u001b[0;34m(\u001b[0m\u001b[0;34m\"items\"\u001b[0m\u001b[0;34m,\u001b[0m \u001b[0;34m[\u001b[0m\u001b[0;34m]\u001b[0m\u001b[0;34m)\u001b[0m\u001b[0;34m\u001b[0m\u001b[0;34m\u001b[0m\u001b[0m\n\u001b[0m\u001b[1;32m    152\u001b[0m     ]\n\u001b[1;32m    153\u001b[0m     \u001b[0mpages\u001b[0m \u001b[0;34m=\u001b[0m \u001b[0mresponse\u001b[0m\u001b[0;34m.\u001b[0m\u001b[0mget\u001b[0m\u001b[0;34m(\u001b[0m\u001b[0;34m\"pageCount\"\u001b[0m\u001b[0;34m)\u001b[0m\u001b[0;34m\u001b[0m\u001b[0;34m\u001b[0m\u001b[0m\n",
      "\u001b[0;32m~/Repositoris/dribia/driganttic/driganttic/parse.py\u001b[0m in \u001b[0;36m_fetcherdetails\u001b[0;34m(response, resource_name, Translator)\u001b[0m\n\u001b[1;32m     46\u001b[0m         \u001b[0;32mreturn\u001b[0m \u001b[0mFetcherDetails\u001b[0m\u001b[0;34m(\u001b[0m\u001b[0;34m**\u001b[0m\u001b[0mres\u001b[0m\u001b[0;34m)\u001b[0m\u001b[0;34m\u001b[0m\u001b[0;34m\u001b[0m\u001b[0m\n\u001b[1;32m     47\u001b[0m     \u001b[0;32melse\u001b[0m\u001b[0;34m:\u001b[0m\u001b[0;34m\u001b[0m\u001b[0;34m\u001b[0m\u001b[0m\n\u001b[0;32m---> 48\u001b[0;31m         \u001b[0;32mreturn\u001b[0m \u001b[0mDETAIL_PARSERS\u001b[0m\u001b[0;34m[\u001b[0m\u001b[0mresource_name\u001b[0m\u001b[0;34m]\u001b[0m\u001b[0;34m(\u001b[0m\u001b[0mres\u001b[0m\u001b[0;34m,\u001b[0m \u001b[0mTranslator\u001b[0m\u001b[0;34m)\u001b[0m\u001b[0;34m\u001b[0m\u001b[0;34m\u001b[0m\u001b[0m\n\u001b[0m\u001b[1;32m     49\u001b[0m \u001b[0;34m\u001b[0m\u001b[0m\n\u001b[1;32m     50\u001b[0m \u001b[0;34m\u001b[0m\u001b[0m\n",
      "\u001b[0;32m~/Repositoris/dribia/driganttic/driganttic/parse.py\u001b[0m in \u001b[0;36m_refine_projectdetails\u001b[0;34m(response, Translator)\u001b[0m\n\u001b[1;32m    138\u001b[0m             \u001b[0;32mif\u001b[0m \u001b[0mval\u001b[0m \u001b[0;32mis\u001b[0m \u001b[0;32mnot\u001b[0m \u001b[0;32mNone\u001b[0m\u001b[0;34m:\u001b[0m\u001b[0;34m\u001b[0m\u001b[0;34m\u001b[0m\u001b[0m\n\u001b[1;32m    139\u001b[0m                 \u001b[0mres\u001b[0m\u001b[0;34m[\u001b[0m\u001b[0mv\u001b[0m\u001b[0;34m]\u001b[0m \u001b[0;34m=\u001b[0m \u001b[0mval\u001b[0m\u001b[0;34m\u001b[0m\u001b[0;34m\u001b[0m\u001b[0m\n\u001b[0;32m--> 140\u001b[0;31m     \u001b[0;32mreturn\u001b[0m \u001b[0mProjectDetails\u001b[0m\u001b[0;34m(\u001b[0m\u001b[0;34m**\u001b[0m\u001b[0mres\u001b[0m\u001b[0;34m)\u001b[0m\u001b[0;34m\u001b[0m\u001b[0;34m\u001b[0m\u001b[0m\n\u001b[0m\u001b[1;32m    141\u001b[0m \u001b[0;34m\u001b[0m\u001b[0m\n\u001b[1;32m    142\u001b[0m \u001b[0;34m\u001b[0m\u001b[0m\n",
      "\u001b[0;32m~/.cache/pypoetry/virtualenvs/driganttic-GqGwpto--py3.7/lib/python3.7/site-packages/pydantic/main.cpython-37m-x86_64-linux-gnu.so\u001b[0m in \u001b[0;36mpydantic.main.BaseModel.__init__\u001b[0;34m()\u001b[0m\n",
      "\u001b[0;31mValidationError\u001b[0m: 2 validation errors for ProjectDetails\nservice\n  field required (type=value_error.missing)\nscenario\n  field required (type=value_error.missing)"
     ]
    }
   ],
   "source": [
    "Client = dg_client.GantticClient(APIKEY=APIKEY)\n",
    "# get all projects, tasks and resources\n",
    "projects = Client.get_projects()\n",
    "tasks = Client.get_tasks(timeMin = dg_parse.parse_timestamp('2021-01-01'),\n",
    "                         timeMax= dg_parse.parse_timestamp('2022-04-30'))\n",
    "resources = Client.get_resources()"
   ]
  },
  {
   "cell_type": "code",
   "execution_count": null,
   "id": "81c99c3f",
   "metadata": {},
   "outputs": [],
   "source": [
    "df_pro = to_df(projects)\n",
    "df_res = to_df(resources)\n",
    "df_tas = to_df(tasks)\n",
    "\n",
    "df_pro.set_index('id',drop=True, inplace=True)\n",
    "df_tas.set_index('id',drop=True, inplace=True)\n",
    "df_res.set_index('id',drop=True, inplace=True)"
   ]
  },
  {
   "cell_type": "code",
   "execution_count": null,
   "id": "eb5b0abb",
   "metadata": {},
   "outputs": [],
   "source": [
    "df_pro.head(1)"
   ]
  },
  {
   "cell_type": "code",
   "execution_count": null,
   "id": "b3fa1510",
   "metadata": {},
   "outputs": [],
   "source": [
    "df_res.head(1)"
   ]
  },
  {
   "cell_type": "code",
   "execution_count": null,
   "id": "e0121ab7",
   "metadata": {},
   "outputs": [],
   "source": [
    "df_pro.head(1)"
   ]
  },
  {
   "cell_type": "code",
   "execution_count": null,
   "id": "7bde4457",
   "metadata": {},
   "outputs": [],
   "source": [
    "# Only active tasks today\n",
    "df_tas = filter_tasks(df_tas)\n",
    "df_tas['resources'] = df_tas.resources.map(lambda x: [df_res.loc[k]['name'] for k in x])\n",
    "df_tas['project'] = df_tas.projectId.map(lambda x: df_pro.loc[x]['name'])\n",
    "df_tas.head(1)"
   ]
  },
  {
   "cell_type": "code",
   "execution_count": null,
   "id": "08cfd12f",
   "metadata": {},
   "outputs": [],
   "source": [
    "# perform checks\n",
    "# No tasks with more than one person\n",
    "assert((df_tas.resources.map(len) > 1).sum() == 0)\n",
    "# No project without task\n",
    "assert((df_tas.project.isna().sum() == 0))\n",
    "# Total people\n",
    "print('People role distribution')\n",
    "print(df_res.rol.value_counts())\n",
    "print('\\n')\n",
    "# Tasks per project\n",
    "print('Tasks per project')\n",
    "print(df_tas.project.value_counts())\n",
    "# Types of project\n",
    "print('\\n')\n",
    "print('Types of project')\n",
    "print(df_pro.service.value_counts())"
   ]
  },
  {
   "cell_type": "code",
   "execution_count": null,
   "id": "e657542b",
   "metadata": {},
   "outputs": [],
   "source": [
    "df_pro"
   ]
  },
  {
   "cell_type": "code",
   "execution_count": null,
   "id": "78719691",
   "metadata": {},
   "outputs": [],
   "source": []
  }
 ],
 "metadata": {
  "kernelspec": {
   "display_name": "Python 3",
   "language": "python",
   "name": "python3"
  },
  "language_info": {
   "codemirror_mode": {
    "name": "ipython",
    "version": 3
   },
   "file_extension": ".py",
   "mimetype": "text/x-python",
   "name": "python",
   "nbconvert_exporter": "python",
   "pygments_lexer": "ipython3",
   "version": "3.7.5"
  }
 },
 "nbformat": 4,
 "nbformat_minor": 5
}
